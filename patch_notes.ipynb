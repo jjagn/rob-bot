{
 "cells": [
  {
   "cell_type": "code",
   "execution_count": 3,
   "metadata": {},
   "outputs": [
    {
     "name": "stdout",
     "output_type": "stream",
     "text": [
      "patch notes for beta version 0\n",
      "- won't respond if you just say a word with rob in it\n",
      "- added patch notes\n",
      "- added some new wakeup messages\n",
      "- changed score calculation to be more accurate (score is now 7-number(🟩)-number(🟥)-number(⬛️))\n",
      "- rob is now more polite and will say you're welcome if you say thanks rob\n",
      "- rob will now reply and say hey {name} with name lowercase\n"
     ]
    }
   ],
   "source": [
    "version = 0\n",
    "file = open(f'patch_notes/patch_notes{version}.txt')\n",
    "notes = file.read()\n",
    "print(notes)"
   ]
  },
  {
   "cell_type": "code",
   "execution_count": null,
   "metadata": {},
   "outputs": [],
   "source": []
  }
 ],
 "metadata": {
  "interpreter": {
   "hash": "b0fa6594d8f4cbf19f97940f81e996739fb7646882a419484c72d19e05852a7e"
  },
  "kernelspec": {
   "display_name": "Python 3.9.10 64-bit",
   "language": "python",
   "name": "python3"
  },
  "language_info": {
   "codemirror_mode": {
    "name": "ipython",
    "version": 3
   },
   "file_extension": ".py",
   "mimetype": "text/x-python",
   "name": "python",
   "nbconvert_exporter": "python",
   "pygments_lexer": "ipython3",
   "version": "3.9.10"
  },
  "orig_nbformat": 4
 },
 "nbformat": 4,
 "nbformat_minor": 2
}
