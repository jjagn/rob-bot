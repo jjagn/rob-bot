{
 "cells": [
  {
   "cell_type": "code",
   "execution_count": 1,
   "metadata": {},
   "outputs": [
    {
     "name": "stderr",
     "output_type": "stream",
     "text": [
      "Logging in robbot8947...\n",
      "Login of robbot8947 successful.\n"
     ]
    },
    {
     "name": "stdout",
     "output_type": "stream",
     "text": [
      "URL https://m.facebook.com/?_rdr\n",
      "\n",
      "\n",
      "fb_dtsg_element:\n",
      "\n",
      "<input autocomplete=\"off\" name=\"fb_dtsg\" type=\"hidden\" value=\"AQHep1h1IVTAbJo:8:1647418929\"/>\n",
      "\n",
      "\n",
      "fb_dtsg:\n",
      "\n",
      "AQHep1h1IVTAbJo:8:1647418929\n",
      "revision 1\n"
     ]
    }
   ],
   "source": [
    "from fbchat import Client\n",
    "from fbchat.models import Message\n",
    "\n",
    "# facebook username & password\n",
    "username = \"robbot8947\"\n",
    "password = \"pythonbot123\"\n",
    "# login\n",
    "client = Client(username, password)"
   ]
  },
  {
   "cell_type": "code",
   "execution_count": 2,
   "metadata": {},
   "outputs": [
    {
     "name": "stdout",
     "output_type": "stream",
     "text": [
      "[Group(uid='5820049228023910', type=ThreadType.GROUP, photo=None, name=None, last_message_timestamp='1647418881395', message_count=110, plan=None, participants={'100004858381029', '100002385766967', '100079006569868'}, nicknames=[], color=None, emoji=None, admins={'100002385766967'}, approval_mode=False, approval_requests=set(), join_link=''), Group(uid='4854566911328063', type=ThreadType.GROUP, photo=None, name='Heardle', last_message_timestamp='1647418871309', message_count=102, plan=None, participants={'100008483316081', '100009014277702', '100010615864179', '100002385766967', '100079006569868', '100004858381029'}, nicknames=[], color=None, emoji=None, admins={'100010615864179'}, approval_mode=False, approval_requests=set(), join_link=''), User(uid='100002385766967', type=ThreadType.USER, photo='https://scontent.fchc1-1.fna.fbcdn.net/v/t1.6435-1/52703746_2115366628552842_2762479796070907904_n.jpg?stp=cp0_dst-jpg_p50x50&_nc_cat=101&ccb=1-5&_nc_sid=7206a8&_nc_ohc=xmzB4rHwD7kAX91u9Yb&tn=oJxZGEJXAWYqcFq1&_nc_ht=scontent.fchc1-1.fna&oh=00_AT9K2OC8KLpmF0ZywOrdQpua5xYTLhkVkTebk4Gx2QQk2g&oe=6255D34A', name='Jackson Crawford', last_message_timestamp='1647387105266', message_count=2, plan=None, url='https://www.facebook.com/jackson.crawford.129', first_name='Jackson', last_name='Crawford', is_friend=True, gender='male_singular', affinity=None, nickname=None, own_nickname=None, color=None, emoji=None)]\n"
     ]
    }
   ],
   "source": [
    "master_users_list = client.fetchThreadList()\n",
    "print(master_users_list)"
   ]
  },
  {
   "cell_type": "code",
   "execution_count": null,
   "metadata": {},
   "outputs": [],
   "source": [
    "from fbchat.models import *\n",
    "thread_id = \"5820049228023910\"\n",
    "thread_type = ThreadType.GROUP\n",
    "client.send(Message(text=\"hey_man\"), thread_id=thread_id, thread_type=thread_type)"
   ]
  },
  {
   "cell_type": "code",
   "execution_count": null,
   "metadata": {},
   "outputs": [],
   "source": [
    "messages = client.fetchThreadMessages(thread_id)\n",
    "for message in messages:\n",
    "    print(message.text)"
   ]
  },
  {
   "cell_type": "code",
   "execution_count": 3,
   "metadata": {},
   "outputs": [
    {
     "name": "stdout",
     "output_type": "stream",
     "text": [
      "[Group(uid='5820049228023910', type=ThreadType.GROUP, photo=None, name=None, last_message_timestamp='1647418881395', message_count=110, plan=None, participants={'100004858381029', '100002385766967', '100079006569868'}, nicknames=[], color=None, emoji=None, admins={'100002385766967'}, approval_mode=False, approval_requests=set(), join_link=''), Group(uid='4854566911328063', type=ThreadType.GROUP, photo=None, name='Heardle', last_message_timestamp='1647418871309', message_count=102, plan=None, participants={'100008483316081', '100009014277702', '100010615864179', '100002385766967', '100079006569868', '100004858381029'}, nicknames=[], color=None, emoji=None, admins={'100010615864179'}, approval_mode=False, approval_requests=set(), join_link=''), User(uid='100002385766967', type=ThreadType.USER, photo='https://scontent.fchc1-1.fna.fbcdn.net/v/t1.6435-1/52703746_2115366628552842_2762479796070907904_n.jpg?stp=cp0_dst-jpg_p50x50&_nc_cat=101&ccb=1-5&_nc_sid=7206a8&_nc_ohc=xmzB4rHwD7kAX91u9Yb&tn=oJxZGEJXAWYqcFq1&_nc_ht=scontent.fchc1-1.fna&oh=00_AT9K2OC8KLpmF0ZywOrdQpua5xYTLhkVkTebk4Gx2QQk2g&oe=6255D34A', name='Jackson Crawford', last_message_timestamp='1647387105266', message_count=2, plan=None, url='https://www.facebook.com/jackson.crawford.129', first_name='Jackson', last_name='Crawford', is_friend=True, gender='male_singular', affinity=None, nickname=None, own_nickname=None, color=None, emoji=None)]\n"
     ]
    }
   ],
   "source": [
    "threads = client.fetchThreadList()\n",
    "print(threads)"
   ]
  },
  {
   "cell_type": "code",
   "execution_count": 4,
   "metadata": {},
   "outputs": [
    {
     "name": "stdout",
     "output_type": "stream",
     "text": [
      "Group(uid='5820049228023910', type=ThreadType.GROUP, photo=None, name=None, last_message_timestamp='1647418881395', message_count=110, plan=None, participants={'100004858381029', '100002385766967', '100079006569868'}, nicknames=[], color=None, emoji=None, admins={'100002385766967'}, approval_mode=False, approval_requests=set(), join_link='')\n",
      "\n",
      "\n",
      "Group(uid='4854566911328063', type=ThreadType.GROUP, photo=None, name='Heardle', last_message_timestamp='1647418871309', message_count=102, plan=None, participants={'100008483316081', '100009014277702', '100010615864179', '100002385766967', '100079006569868', '100004858381029'}, nicknames=[], color=None, emoji=None, admins={'100010615864179'}, approval_mode=False, approval_requests=set(), join_link='')\n",
      "\n",
      "\n",
      "User(uid='100002385766967', type=ThreadType.USER, photo='https://scontent.fchc1-1.fna.fbcdn.net/v/t1.6435-1/52703746_2115366628552842_2762479796070907904_n.jpg?stp=cp0_dst-jpg_p50x50&_nc_cat=101&ccb=1-5&_nc_sid=7206a8&_nc_ohc=xmzB4rHwD7kAX91u9Yb&tn=oJxZGEJXAWYqcFq1&_nc_ht=scontent.fchc1-1.fna&oh=00_AT9K2OC8KLpmF0ZywOrdQpua5xYTLhkVkTebk4Gx2QQk2g&oe=6255D34A', name='Jackson Crawford', last_message_timestamp='1647387105266', message_count=2, plan=None, url='https://www.facebook.com/jackson.crawford.129', first_name='Jackson', last_name='Crawford', is_friend=True, gender='male_singular', affinity=None, nickname=None, own_nickname=None, color=None, emoji=None)\n",
      "\n",
      "\n"
     ]
    }
   ],
   "source": [
    "for thread in threads:\n",
    "    print(thread)\n",
    "    print('\\n')"
   ]
  },
  {
   "cell_type": "code",
   "execution_count": null,
   "metadata": {},
   "outputs": [],
   "source": [
    "group = threads[0]\n",
    "\n",
    "user_dict = {}\n",
    "\n",
    "for user_id in group.participants:\n",
    "    user = client.fetchUserInfo(user_id)[user_id]\n",
    "    # print(user)\n",
    "    print(\"user's name: {}\".format(user.name))\n",
    "    user_dict[user_id] = user.name\n",
    "\n",
    "print(user_dict)"
   ]
  },
  {
   "cell_type": "code",
   "execution_count": null,
   "metadata": {},
   "outputs": [],
   "source": [
    "heardle_scores = []\n",
    "for message in messages:\n",
    "    if \"#Heardle\" in message.text:\n",
    "        print(f\"{user_dict[message.author]}:\" + (30-len(user_dict[message.author]))*\" \" + message.text)\n",
    "        heardle_scores.append([message.author, message.text])\n",
    "\n",
    "print(heardle_scores)"
   ]
  },
  {
   "cell_type": "code",
   "execution_count": null,
   "metadata": {},
   "outputs": [],
   "source": [
    "for score_message in heardle_scores:\n",
    "    score = score_message[1].count('🟩')\n",
    "    message_string = (f\"{user_dict[score_message[0]].split(' ')[0]} scored {score} for Heardle today\")\n",
    "    "
   ]
  },
  {
   "cell_type": "code",
   "execution_count": 90,
   "metadata": {},
   "outputs": [
    {
     "name": "stderr",
     "output_type": "stream",
     "text": [
      "Logging in robbot8947...\n",
      "Login of robbot8947 successful.\n"
     ]
    },
    {
     "name": "stdout",
     "output_type": "stream",
     "text": [
      "URL https://m.facebook.com/?_rdr\n",
      "\n",
      "\n",
      "fb_dtsg_element:\n",
      "\n",
      "<input autocomplete=\"off\" name=\"fb_dtsg\" type=\"hidden\" value=\"AQGmeU-NVhZaVK4:45:1647400941\"/>\n",
      "\n",
      "\n",
      "fb_dtsg:\n",
      "\n",
      "AQGmeU-NVhZaVK4:45:1647400941\n",
      "revision 1\n",
      "[Group(uid='5820049228023910', type=ThreadType.GROUP, photo=None, name=None, last_message_timestamp='1647400946854', message_count=100, plan=None, participants={'100079006569868', '100002385766967', '100004858381029'}, nicknames=[], color=None, emoji=None, admins={'100002385766967'}, approval_mode=False, approval_requests=set(), join_link=''), User(uid='100002385766967', type=ThreadType.USER, photo='https://scontent.fchc1-1.fna.fbcdn.net/v/t1.6435-1/52703746_2115366628552842_2762479796070907904_n.jpg?stp=cp0_dst-jpg_p50x50&_nc_cat=101&ccb=1-5&_nc_sid=7206a8&_nc_ohc=xmzB4rHwD7kAX91u9Yb&_nc_ht=scontent.fchc1-1.fna&oh=00_AT8h4I0uZvSF_Eg49-RPMI8JN6_bWBUz406VoV7dDsQwhA&oe=6255D34A', name='Jackson Crawford', last_message_timestamp='1647387105266', message_count=2, plan=None, url='https://www.facebook.com/jackson.crawford.129', first_name='Jackson', last_name='Crawford', is_friend=True, gender='male_singular', affinity=None, nickname=None, own_nickname=None, color=None, emoji=None)]\n",
      "Group(uid='5820049228023910', type=ThreadType.GROUP, photo=None, name=None, last_message_timestamp='1647400946854', message_count=100, plan=None, participants={'100079006569868', '100002385766967', '100004858381029'}, nicknames=[], color=None, emoji=None, admins={'100002385766967'}, approval_mode=False, approval_requests=set(), join_link='')\n",
      "\n",
      "\n",
      "User(uid='100002385766967', type=ThreadType.USER, photo='https://scontent.fchc1-1.fna.fbcdn.net/v/t1.6435-1/52703746_2115366628552842_2762479796070907904_n.jpg?stp=cp0_dst-jpg_p50x50&_nc_cat=101&ccb=1-5&_nc_sid=7206a8&_nc_ohc=xmzB4rHwD7kAX91u9Yb&_nc_ht=scontent.fchc1-1.fna&oh=00_AT8h4I0uZvSF_Eg49-RPMI8JN6_bWBUz406VoV7dDsQwhA&oe=6255D34A', name='Jackson Crawford', last_message_timestamp='1647387105266', message_count=2, plan=None, url='https://www.facebook.com/jackson.crawford.129', first_name='Jackson', last_name='Crawford', is_friend=True, gender='male_singular', affinity=None, nickname=None, own_nickname=None, color=None, emoji=None)\n",
      "\n",
      "\n",
      "user's name: Rob Bot\n",
      "user's name: Jackson Crawford\n",
      "user's name: Eli Briggs O'Neill\n",
      "{'100079006569868': 'Rob Bot', '100002385766967': 'Jackson Crawford', '100004858381029': \"Eli Briggs O'Neill\"}\n"
     ]
    },
    {
     "name": "stderr",
     "output_type": "stream",
     "text": [
      "Listening...\n"
     ]
    },
    {
     "ename": "KeyboardInterrupt",
     "evalue": "",
     "output_type": "error",
     "traceback": [
      "\u001b[0;31m---------------------------------------------------------------------------\u001b[0m",
      "\u001b[0;31mKeyboardInterrupt\u001b[0m                         Traceback (most recent call last)",
      "\u001b[0;32m<ipython-input-90-61a3afc41ed5>\u001b[0m in \u001b[0;36m<module>\u001b[0;34m\u001b[0m\n\u001b[1;32m     86\u001b[0m \u001b[0mprint\u001b[0m\u001b[0;34m(\u001b[0m\u001b[0muser_dict\u001b[0m\u001b[0;34m)\u001b[0m\u001b[0;34m\u001b[0m\u001b[0;34m\u001b[0m\u001b[0m\n\u001b[1;32m     87\u001b[0m \u001b[0;34m\u001b[0m\u001b[0m\n\u001b[0;32m---> 88\u001b[0;31m \u001b[0mclient\u001b[0m\u001b[0;34m.\u001b[0m\u001b[0mlisten\u001b[0m\u001b[0;34m(\u001b[0m\u001b[0;34m)\u001b[0m\u001b[0;34m\u001b[0m\u001b[0;34m\u001b[0m\u001b[0m\n\u001b[0m",
      "\u001b[0;32m~/Library/Python/3.8/lib/python/site-packages/fbchat/_client.py\u001b[0m in \u001b[0;36mlisten\u001b[0;34m(self, markAlive)\u001b[0m\n\u001b[1;32m   2884\u001b[0m         \u001b[0mself\u001b[0m\u001b[0;34m.\u001b[0m\u001b[0monListening\u001b[0m\u001b[0;34m(\u001b[0m\u001b[0;34m)\u001b[0m\u001b[0;34m\u001b[0m\u001b[0;34m\u001b[0m\u001b[0m\n\u001b[1;32m   2885\u001b[0m \u001b[0;34m\u001b[0m\u001b[0m\n\u001b[0;32m-> 2886\u001b[0;31m         \u001b[0;32mwhile\u001b[0m \u001b[0mself\u001b[0m\u001b[0;34m.\u001b[0m\u001b[0mlistening\u001b[0m \u001b[0;32mand\u001b[0m \u001b[0mself\u001b[0m\u001b[0;34m.\u001b[0m\u001b[0mdoOneListen\u001b[0m\u001b[0;34m(\u001b[0m\u001b[0;34m)\u001b[0m\u001b[0;34m:\u001b[0m\u001b[0;34m\u001b[0m\u001b[0;34m\u001b[0m\u001b[0m\n\u001b[0m\u001b[1;32m   2887\u001b[0m             \u001b[0;32mpass\u001b[0m\u001b[0;34m\u001b[0m\u001b[0;34m\u001b[0m\u001b[0m\n\u001b[1;32m   2888\u001b[0m \u001b[0;34m\u001b[0m\u001b[0m\n",
      "\u001b[0;32m~/Library/Python/3.8/lib/python/site-packages/fbchat/_client.py\u001b[0m in \u001b[0;36mdoOneListen\u001b[0;34m(self, markAlive)\u001b[0m\n\u001b[1;32m   2860\u001b[0m \u001b[0;34m\u001b[0m\u001b[0m\n\u001b[1;32m   2861\u001b[0m         \u001b[0;31m# TODO: Remove on_error param\u001b[0m\u001b[0;34m\u001b[0m\u001b[0;34m\u001b[0m\u001b[0;34m\u001b[0m\u001b[0m\n\u001b[0;32m-> 2862\u001b[0;31m         \u001b[0;32mreturn\u001b[0m \u001b[0mself\u001b[0m\u001b[0;34m.\u001b[0m\u001b[0m_mqtt\u001b[0m\u001b[0;34m.\u001b[0m\u001b[0mloop_once\u001b[0m\u001b[0;34m(\u001b[0m\u001b[0mon_error\u001b[0m\u001b[0;34m=\u001b[0m\u001b[0;32mlambda\u001b[0m \u001b[0me\u001b[0m\u001b[0;34m:\u001b[0m \u001b[0mself\u001b[0m\u001b[0;34m.\u001b[0m\u001b[0monListenError\u001b[0m\u001b[0;34m(\u001b[0m\u001b[0mexception\u001b[0m\u001b[0;34m=\u001b[0m\u001b[0me\u001b[0m\u001b[0;34m)\u001b[0m\u001b[0;34m)\u001b[0m\u001b[0;34m\u001b[0m\u001b[0;34m\u001b[0m\u001b[0m\n\u001b[0m\u001b[1;32m   2863\u001b[0m \u001b[0;34m\u001b[0m\u001b[0m\n\u001b[1;32m   2864\u001b[0m     \u001b[0;32mdef\u001b[0m \u001b[0mstopListening\u001b[0m\u001b[0;34m(\u001b[0m\u001b[0mself\u001b[0m\u001b[0;34m)\u001b[0m\u001b[0;34m:\u001b[0m\u001b[0;34m\u001b[0m\u001b[0;34m\u001b[0m\u001b[0m\n",
      "\u001b[0;32m~/Library/Python/3.8/lib/python/site-packages/fbchat/_mqtt.py\u001b[0m in \u001b[0;36mloop_once\u001b[0;34m(self, on_error)\u001b[0m\n\u001b[1;32m    273\u001b[0m         \u001b[0mReturns\u001b[0m \u001b[0mwhether\u001b[0m \u001b[0mto\u001b[0m \u001b[0mkeep\u001b[0m \u001b[0mlistening\u001b[0m \u001b[0;32mor\u001b[0m \u001b[0;32mnot\u001b[0m\u001b[0;34m.\u001b[0m\u001b[0;34m\u001b[0m\u001b[0;34m\u001b[0m\u001b[0m\n\u001b[1;32m    274\u001b[0m         \"\"\"\n\u001b[0;32m--> 275\u001b[0;31m         \u001b[0mrc\u001b[0m \u001b[0;34m=\u001b[0m \u001b[0mself\u001b[0m\u001b[0;34m.\u001b[0m\u001b[0m_mqtt\u001b[0m\u001b[0;34m.\u001b[0m\u001b[0mloop\u001b[0m\u001b[0;34m(\u001b[0m\u001b[0mtimeout\u001b[0m\u001b[0;34m=\u001b[0m\u001b[0;36m1.0\u001b[0m\u001b[0;34m)\u001b[0m\u001b[0;34m\u001b[0m\u001b[0;34m\u001b[0m\u001b[0m\n\u001b[0m\u001b[1;32m    276\u001b[0m \u001b[0;34m\u001b[0m\u001b[0m\n\u001b[1;32m    277\u001b[0m         \u001b[0;31m# If disconnect() has been called\u001b[0m\u001b[0;34m\u001b[0m\u001b[0;34m\u001b[0m\u001b[0;34m\u001b[0m\u001b[0m\n",
      "\u001b[0;32m~/Library/Python/3.8/lib/python/site-packages/paho/mqtt/client.py\u001b[0m in \u001b[0;36mloop\u001b[0;34m(self, timeout, max_packets)\u001b[0m\n\u001b[1;32m   1118\u001b[0m             \u001b[0mself\u001b[0m\u001b[0;34m.\u001b[0m\u001b[0m_sockpairR\u001b[0m\u001b[0;34m,\u001b[0m \u001b[0mself\u001b[0m\u001b[0;34m.\u001b[0m\u001b[0m_sockpairW\u001b[0m \u001b[0;34m=\u001b[0m \u001b[0m_socketpair_compat\u001b[0m\u001b[0;34m(\u001b[0m\u001b[0;34m)\u001b[0m\u001b[0;34m\u001b[0m\u001b[0;34m\u001b[0m\u001b[0m\n\u001b[1;32m   1119\u001b[0m \u001b[0;34m\u001b[0m\u001b[0m\n\u001b[0;32m-> 1120\u001b[0;31m         \u001b[0;32mreturn\u001b[0m \u001b[0mself\u001b[0m\u001b[0;34m.\u001b[0m\u001b[0m_loop\u001b[0m\u001b[0;34m(\u001b[0m\u001b[0mtimeout\u001b[0m\u001b[0;34m)\u001b[0m\u001b[0;34m\u001b[0m\u001b[0;34m\u001b[0m\u001b[0m\n\u001b[0m\u001b[1;32m   1121\u001b[0m \u001b[0;34m\u001b[0m\u001b[0m\n\u001b[1;32m   1122\u001b[0m     \u001b[0;32mdef\u001b[0m \u001b[0m_loop\u001b[0m\u001b[0;34m(\u001b[0m\u001b[0mself\u001b[0m\u001b[0;34m,\u001b[0m \u001b[0mtimeout\u001b[0m\u001b[0;34m=\u001b[0m\u001b[0;36m1.0\u001b[0m\u001b[0;34m)\u001b[0m\u001b[0;34m:\u001b[0m\u001b[0;34m\u001b[0m\u001b[0;34m\u001b[0m\u001b[0m\n",
      "\u001b[0;32m~/Library/Python/3.8/lib/python/site-packages/paho/mqtt/client.py\u001b[0m in \u001b[0;36m_loop\u001b[0;34m(self, timeout)\u001b[0m\n\u001b[1;32m   1148\u001b[0m \u001b[0;34m\u001b[0m\u001b[0m\n\u001b[1;32m   1149\u001b[0m         \u001b[0;32mtry\u001b[0m\u001b[0;34m:\u001b[0m\u001b[0;34m\u001b[0m\u001b[0;34m\u001b[0m\u001b[0m\n\u001b[0;32m-> 1150\u001b[0;31m             \u001b[0msocklist\u001b[0m \u001b[0;34m=\u001b[0m \u001b[0mselect\u001b[0m\u001b[0;34m.\u001b[0m\u001b[0mselect\u001b[0m\u001b[0;34m(\u001b[0m\u001b[0mrlist\u001b[0m\u001b[0;34m,\u001b[0m \u001b[0mwlist\u001b[0m\u001b[0;34m,\u001b[0m \u001b[0;34m[\u001b[0m\u001b[0;34m]\u001b[0m\u001b[0;34m,\u001b[0m \u001b[0mtimeout\u001b[0m\u001b[0;34m)\u001b[0m\u001b[0;34m\u001b[0m\u001b[0;34m\u001b[0m\u001b[0m\n\u001b[0m\u001b[1;32m   1151\u001b[0m         \u001b[0;32mexcept\u001b[0m \u001b[0mTypeError\u001b[0m\u001b[0;34m:\u001b[0m\u001b[0;34m\u001b[0m\u001b[0;34m\u001b[0m\u001b[0m\n\u001b[1;32m   1152\u001b[0m             \u001b[0;31m# Socket isn't correct type, in likelihood connection is lost\u001b[0m\u001b[0;34m\u001b[0m\u001b[0;34m\u001b[0m\u001b[0;34m\u001b[0m\u001b[0m\n",
      "\u001b[0;31mKeyboardInterrupt\u001b[0m: "
     ]
    }
   ],
   "source": [
    "from fbchat import log, Client\n",
    "from random import randint\n",
    "\n",
    "# Subclass fbchat.Client and override required methods\n",
    "class Heardler:\n",
    "    def __init__(self, id, name):\n",
    "        self.id = id\n",
    "        self.name = name\n",
    "        self.scores = []\n",
    "    \n",
    "    def average_score(self):\n",
    "        return sum(self.scores) / len(self.scores)\n",
    "\n",
    "    def minimum_score(self):\n",
    "        return min(self.scores)\n",
    "\n",
    "    def maximum_score(self):\n",
    "        return max(self.scores)\n",
    "\n",
    "class HeardleBot(Client):\n",
    "    def onMessage(self, author_id, message_object, thread_id, thread_type, **kwargs):\n",
    "        self.markAsDelivered(thread_id, message_object.uid)\n",
    "        self.markAsRead(thread_id)\n",
    "\n",
    "        log.info(\"{} from {} in {}\".format(message_object, thread_id, thread_type.name))\n",
    "\n",
    "        protein = message_object.text\n",
    "        auth = message_object.author\n",
    "\n",
    "        print(protein)\n",
    "        loser = False\n",
    "        if '/rob' in protein:\n",
    "            message_object.text = \"leave me alone man that shit isn't coded yet\"\n",
    "            self.send(message_object, thread_id=thread_id, thread_type=thread_type)\n",
    "\n",
    "\n",
    "        heardle_scores = []\n",
    "        if \"#Heardle\" in protein:\n",
    "            heardle_number = self.number_from_message(protein)\n",
    "\n",
    "            heardle_scores.append([auth, protein])\n",
    "\n",
    "            for score_message in heardle_scores:\n",
    "                score = score_message[1].count('🟩')\n",
    "                if score > 5:\n",
    "                    message_string = (f\"{user_dict[score_message[0]].split(' ')[0]} didn't score {score} for Heardle #{heardle_number} today, because that's impossible\")\n",
    "                if score == 0:\n",
    "                    message_string = (f\"{user_dict[score_message[0]].split(' ')[0]} scored {score} for Heardle #{heardle_number} today\")\n",
    "                    loser = True\n",
    "                else:\n",
    "                    message_string = (f\"{user_dict[score_message[0]].split(' ')[0]} scored {score} for Heardle #{heardle_number} today\")\n",
    "\n",
    "            if \"#Heardle\" in message_object.text:\n",
    "                message_object.text = message_string\n",
    "\n",
    "                self.send(message_object, thread_id=thread_id, thread_type=thread_type)\n",
    "                if loser:\n",
    "                    message_object.text = insults[randint(0, len(insults)-1)]\n",
    "                    self.send(message_object, thread_id=thread_id, thread_type=thread_type)\n",
    "                    loser = False\n",
    "\n",
    "    def number_from_message(message):\n",
    "        start_index = 10\n",
    "        num_str = \"\"\n",
    "        for char in message[10:]:\n",
    "            if char.isnumeric():\n",
    "                num_str += char\n",
    "                print(char)\n",
    "                print(num_str)\n",
    "            else:\n",
    "                break\n",
    "        heardle_number = int(num_str)\n",
    "        return heardle_number\n",
    "\n",
    "\n",
    "insults = [\"and they call me a bot\"]\n",
    "\n",
    "client = HeardleBot(username, password)\n",
    "\n",
    "thread_id = \"5820049228023910\"\n",
    "thread_type = ThreadType.GROUP\n",
    "client.send(Message(text=\"alive\"), thread_id=thread_id, thread_type=thread_type)\n",
    "    \n",
    "threads = client.fetchThreadList()\n",
    "print(threads)\n",
    "\n",
    "for thread in threads:\n",
    "    print(thread)\n",
    "    print('\\n')\n",
    "\n",
    "group = threads[0]\n",
    "\n",
    "user_dict = {}\n",
    "\n",
    "for user_id in group.participants:\n",
    "    user = client.fetchUserInfo(user_id)[user_id]\n",
    "    # print(user)\n",
    "    print(\"user's name: {}\".format(user.name))\n",
    "    \n",
    "    user_dict[user_id] = Heardler(user_id, user.name)\n",
    "\n",
    "print(user_dict)\n",
    "\n",
    "client.listen()"
   ]
  },
  {
   "cell_type": "code",
   "execution_count": null,
   "metadata": {},
   "outputs": [
    {
     "name": "stdout",
     "output_type": "stream",
     "text": [
      "#Heardle #19\n",
      "\n",
      "🔊🟩⬜️⬜️⬜️⬜️⬜️\n",
      "\n",
      "https://heardle.app\n",
      "1\n",
      "1\n",
      "9\n",
      "19\n",
      "19\n"
     ]
    }
   ],
   "source": [
    "message = \"#Heardle #19\\n\\n🔊🟩⬜️⬜️⬜️⬜️⬜️\\n\\nhttps://heardle.app\"\n",
    "print(message)\n",
    "\n",
    "if \"#Heardle\" in message:\n",
    "    \n",
    "    print(heardle_number)\n"
   ]
  },
  {
   "cell_type": "code",
   "execution_count": null,
   "metadata": {},
   "outputs": [],
   "source": []
  }
 ],
 "metadata": {
  "interpreter": {
   "hash": "b0fa6594d8f4cbf19f97940f81e996739fb7646882a419484c72d19e05852a7e"
  },
  "kernelspec": {
   "display_name": "Python 3.9.10 64-bit",
   "language": "python",
   "name": "python3"
  },
  "language_info": {
   "codemirror_mode": {
    "name": "ipython",
    "version": 3
   },
   "file_extension": ".py",
   "mimetype": "text/x-python",
   "name": "python",
   "nbconvert_exporter": "python",
   "pygments_lexer": "ipython3",
   "version": "3.8.9"
  },
  "orig_nbformat": 4
 },
 "nbformat": 4,
 "nbformat_minor": 2
}
